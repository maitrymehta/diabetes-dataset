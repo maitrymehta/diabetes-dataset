{
  "nbformat": 4,
  "nbformat_minor": 0,
  "metadata": {
    "colab": {
      "provenance": []
    },
    "kernelspec": {
      "name": "python3",
      "display_name": "Python 3"
    }
  },
  "cells": [
    {
      "cell_type": "markdown",
      "metadata": {
        "id": "9J4KdQtqt1Rw"
      },
      "source": [
        "## Diabetes dataset"
      ]
    },
    {
      "cell_type": "markdown",
      "metadata": {
        "id": "yUScpvSHzZQ3"
      },
      "source": [
        "https://www4.stat.ncsu.edu/~boos/var.select/diabetes.html\n",
        "\n",
        "The dataset contains 10 features (that have already been mean centered and scaled) and a target value: a measure of disease progression one year after baseline."
      ]
    },
    {
      "cell_type": "code",
      "metadata": {
        "id": "GiyvZ8Esz5dj",
        "colab": {
          "base_uri": "https://localhost:8080/"
        },
        "outputId": "18b269f4-7a7c-4315-b74c-737e9b14c081"
      },
      "source": [
        "# load the dataset\n",
        "import pandas as pd\n",
        "from sklearn.datasets import load_diabetes\n",
        "df = load_diabetes()\n",
        "X = df.data\n",
        "y = df.target\n",
        "print(X.shape)\n",
        "print(y.shape)"
      ],
      "execution_count": null,
      "outputs": [
        {
          "output_type": "stream",
          "name": "stdout",
          "text": [
            "(442, 10)\n",
            "(442,)\n"
          ]
        }
      ]
    },
    {
      "cell_type": "code",
      "metadata": {
        "id": "zKTzoY_Y0xfE"
      },
      "source": [
        "# setting up training set and test set \n",
        "from sklearn.model_selection import train_test_split\n",
        "X_train, X_test, y_train, y_test = train_test_split(X, y, test_size=0.25, random_state=0)\n"
      ],
      "execution_count": null,
      "outputs": []
    },
    {
      "cell_type": "code",
      "source": [
        "print(X_train.shape)\n",
        "print(y_train.shape)\n",
        "print(X_test.shape)\n",
        "print(y_test.shape)"
      ],
      "metadata": {
        "colab": {
          "base_uri": "https://localhost:8080/"
        },
        "id": "M2eLnZRgSeF1",
        "outputId": "2cf8f6b7-d533-4a14-e520-03c72cc57aa5"
      },
      "execution_count": null,
      "outputs": [
        {
          "output_type": "stream",
          "name": "stdout",
          "text": [
            "(331, 10)\n",
            "(331,)\n",
            "(111, 10)\n",
            "(111,)\n"
          ]
        }
      ]
    },
    {
      "cell_type": "code",
      "source": [
        "y_train\n"
      ],
      "metadata": {
        "colab": {
          "base_uri": "https://localhost:8080/"
        },
        "id": "b_oSe0g2_box",
        "outputId": "ac867552-2f47-4b60-dab0-f79d5273f94b"
      },
      "execution_count": null,
      "outputs": [
        {
          "output_type": "execute_result",
          "data": {
            "text/plain": [
              "array([ 68., 109.,  94., 118., 275., 275., 127., 281.,  71.,  42.,  71.,\n",
              "       128., 272., 135.,  51., 220., 167.,  78., 131., 212., 182., 174.,\n",
              "       259.,  77.,  91., 310.,  84., 134., 102., 128., 306., 245., 201.,\n",
              "       183., 111.,  96., 125., 182., 177.,  48.,  97., 259., 288., 242.,\n",
              "        69.,  31., 154., 150.,  52., 261., 118., 102., 139.,  51.,  58.,\n",
              "       144., 178.,  97.,  78., 129., 258., 124., 198., 185.,  66., 237.,\n",
              "       178., 275., 268., 242., 200., 214., 246., 236.,  85., 114.,  93.,\n",
              "        99.,  72., 270., 111.,  83.,  87.,  42., 172.,  65., 259., 279.,\n",
              "       141., 144., 220.,  90., 101.,  53.,  67.,  72., 121., 303., 232.,\n",
              "       140., 190., 221.,  71., 116., 111., 280., 233.,  78., 150., 283.,\n",
              "        64., 140.,  65., 225., 206.,  63., 296., 173.,  85., 141.,  50.,\n",
              "        25., 153.,  55., 139., 336.,  73.,  95., 109.,  44., 180., 263.,\n",
              "       148.,  79.,  65., 102., 220., 277., 246., 200., 262., 191.,  97.,\n",
              "       184.,  85., 248., 150., 268.,  59.,  70.,  88., 100., 190., 113.,\n",
              "        66., 243., 185., 262.,  48., 160., 217., 210., 132., 257., 104.,\n",
              "       126., 292., 166.,  83.,  81., 144., 281.,  72.,  39., 109.,  60.,\n",
              "       258., 178., 168.,  87.,  77., 216., 206., 142., 161., 265.,  60.,\n",
              "       200., 265., 272., 146.,  94.,  55.,  69., 138., 258., 143., 172.,\n",
              "        89.,  69., 199.,  55.,  45., 265.,  91., 170.,  55., 202., 155.,\n",
              "        77.,  77.,  71., 123.,  84., 252.,  52.,  40., 274., 143., 245.,\n",
              "        92., 151.,  39., 235.,  92., 253.,  94.,  81., 346.,  90., 181.,\n",
              "       162., 277., 152., 178., 124.,  75., 263., 202., 200., 108.,  96.,\n",
              "        60.,  72., 107.,  54., 158., 152., 220., 308., 249., 222.,  65.,\n",
              "       173.,  88.,  72., 164.,  52., 115., 200.,  90., 248.,  37., 230.,\n",
              "        63., 273.,  61.,  53., 189., 241., 118., 252., 104., 219., 115.,\n",
              "       332., 131., 185.,  63., 131.,  88., 187., 196.,  59., 341., 109.,\n",
              "       101., 113.,  80., 242., 168., 128., 233., 209., 225.,  83., 214.,\n",
              "        96., 129.,  47., 229., 293.,  74., 202., 164., 202.,  59.,  91.,\n",
              "       120., 151., 310.,  90., 116., 147.,  43.,  42.,  48., 134.,  84.,\n",
              "        71.,  64.,  70., 310., 311., 122., 243., 248.,  91., 281., 142.,\n",
              "       295.])"
            ]
          },
          "metadata": {},
          "execution_count": 24
        }
      ]
    },
    {
      "cell_type": "code",
      "metadata": {
        "id": "eWBs2_fp1Wlp",
        "colab": {
          "base_uri": "https://localhost:8080/"
        },
        "outputId": "b1730601-79b2-4d86-df0d-02ffc61f26db"
      },
      "source": [
        "# fit a linear regression model on training data and determine training set score and test set score\n",
        "# ANSWER:\n",
        "\n",
        "from sklearn.linear_model import LinearRegression\n",
        "model = LinearRegression(fit_intercept=True)\n",
        "\n",
        "model.fit(X_train, y_train)"
      ],
      "execution_count": null,
      "outputs": [
        {
          "output_type": "execute_result",
          "data": {
            "text/plain": [
              "LinearRegression()"
            ]
          },
          "metadata": {},
          "execution_count": 27
        }
      ]
    },
    {
      "cell_type": "code",
      "source": [
        "model.coef_"
      ],
      "metadata": {
        "colab": {
          "base_uri": "https://localhost:8080/"
        },
        "id": "FiPU_XwPrV1x",
        "outputId": "bd9a9eec-0d0e-4e35-bea4-3ec2c2c52549"
      },
      "execution_count": null,
      "outputs": [
        {
          "output_type": "execute_result",
          "data": {
            "text/plain": [
              "array([ -43.26774487, -208.67053951,  593.39797213,  302.89814903,\n",
              "       -560.27689824,  261.47657106,   -8.83343952,  135.93715156,\n",
              "        703.22658427,   28.34844354])"
            ]
          },
          "metadata": {},
          "execution_count": 28
        }
      ]
    },
    {
      "cell_type": "code",
      "source": [
        "model.intercept_"
      ],
      "metadata": {
        "colab": {
          "base_uri": "https://localhost:8080/"
        },
        "id": "9SX6xR6orbKW",
        "outputId": "c12e1a51-8621-4005-da9d-82196e152b49"
      },
      "execution_count": null,
      "outputs": [
        {
          "output_type": "execute_result",
          "data": {
            "text/plain": [
              "153.06798218266258"
            ]
          },
          "metadata": {},
          "execution_count": 29
        }
      ]
    },
    {
      "cell_type": "code",
      "source": [
        "print(\"Model slope:    \", model.coef_[0])\n",
        "print(\"Model intercept:\", model.intercept_)\n",
        "print(\"R^2 value for training set:\", model.score(X_train,y_train))\n",
        "print(\"R^2 value for test set:\", model.score(X_test,y_test))\n",
        "\n"
      ],
      "metadata": {
        "colab": {
          "base_uri": "https://localhost:8080/"
        },
        "id": "XcTzlQcV0J44",
        "outputId": "821d606f-e9dd-49f1-eae6-65a9c5d9c90f"
      },
      "execution_count": null,
      "outputs": [
        {
          "output_type": "stream",
          "name": "stdout",
          "text": [
            "Model slope:     -43.26774487031572\n",
            "Model intercept: 153.06798218266258\n",
            "R^2 value for training set: 0.555437148935302\n",
            "R^2 value for test set: 0.35940090989715534\n"
          ]
        }
      ]
    },
    {
      "cell_type": "code",
      "metadata": {
        "id": "YHMqKqjt1tJs",
        "colab": {
          "base_uri": "https://localhost:8080/"
        },
        "outputId": "856c7b9d-935b-460f-dbf7-9ddccf47c5e3"
      },
      "source": [
        "# fit a Lasso regresion model with default value for alpha=1\n",
        "# determine training set score and test set score\n",
        "# find optimal alpha with grid search over the following list\n",
        "alpha = [0.001, 0.01, 0.1, 1, 10, 100, 1000]\n",
        "\n",
        "from sklearn.linear_model import Lasso\n",
        "\n",
        "\n",
        "# ANSWER:\n",
        "from sklearn import linear_model\n",
        "reg = linear_model.Lasso(alpha=0.001)\n",
        "\n",
        "reg.fit(X_train,y_train)\n",
        "print(\"Lasso regression coefficients\", reg.coef_)\n",
        "print(\"Lasso regression intercept\", reg.intercept_)\n",
        "\n",
        "print(\"Training set score: {:.2f}\".format(reg.score(X_train, y_train)))\n",
        "print(\"Test set score: {:.2f}\".format(reg.score(X_test, y_test)))\n",
        "print(\"Number of features used under lasso regression:\", np.sum(reg.coef_ !=0))"
      ],
      "execution_count": null,
      "outputs": [
        {
          "output_type": "stream",
          "name": "stdout",
          "text": [
            "Lasso regression coefficients [ -42.21298561 -207.49613042  594.22301174  301.66896349 -515.50921726\n",
            "  226.19941607  -28.47772917  129.43346834  686.65194314   28.08013654]\n",
            "Lasso regression intercept 153.05975628987463\n",
            "Training set score: 0.56\n",
            "Test set score: 0.36\n",
            "Number of features used under lasso regression: 10\n"
          ]
        }
      ]
    },
    {
      "cell_type": "code",
      "source": [
        "from sklearn.model_selection import GridSearchCV\n",
        "\n",
        "Parameters = {'alpha':[0.001, 0.01, 0.1, 1, 10, 100, 1000]}\n",
        "\n",
        "gslasso = GridSearchCV(estimator=reg, param_grid = Parameters)\n",
        "gslasso = gslasso.fit(X_train, y_train)\n",
        "gslasso.best_params_"
      ],
      "metadata": {
        "id": "aZx_El9cBQwa",
        "colab": {
          "base_uri": "https://localhost:8080/"
        },
        "outputId": "9d83c363-2e76-45a0-b56a-3266decd983f"
      },
      "execution_count": null,
      "outputs": [
        {
          "output_type": "execute_result",
          "data": {
            "text/plain": [
              "{'alpha': 0.1}"
            ]
          },
          "metadata": {},
          "execution_count": 34
        }
      ]
    },
    {
      "cell_type": "code",
      "source": [
        "lb = linear_model.Lasso(alpha=0.1)\n",
        "\n",
        "lb.fit(X_train,y_train)\n",
        "print(\"Lasso regression coefficients\", lb.coef_)\n",
        "print(\"Lasso regression intercept\", lb.intercept_)\n",
        "\n",
        "print(\"Training set score: {:.2f}\".format(lb.score(X_train, y_train)))\n",
        "print(\"Test set score: {:.2f}\".format(lb.score(X_test, y_test)))\n",
        "print(\"Number of features used under lasso regression:\", np.sum(lb.coef_ !=0))"
      ],
      "metadata": {
        "colab": {
          "base_uri": "https://localhost:8080/"
        },
        "id": "Q0DnFpfrVu3-",
        "outputId": "c69c94f4-04e5-4340-e558-035d478d3ba2"
      },
      "execution_count": null,
      "outputs": [
        {
          "output_type": "stream",
          "name": "stdout",
          "text": [
            "Lasso regression coefficients [  -0.         -129.78400011  592.20328049  240.12404875  -41.64058526\n",
            "  -47.62797321 -219.10436344    0.          507.36252305    0.        ]\n",
            "Lasso regression intercept 152.98795183809946\n",
            "Training set score: 0.55\n",
            "Test set score: 0.36\n",
            "Number of features used under lasso regression: 7\n"
          ]
        }
      ]
    }
  ]
}